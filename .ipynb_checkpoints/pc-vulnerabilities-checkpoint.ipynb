{
 "cells": [
  {
   "cell_type": "markdown",
   "id": "26faccbf-e433-49da-934f-a011060d5176",
   "metadata": {},
   "source": [
    "## Step 1\n",
    "\n",
    "- Enter your API key and your stack URL\n",
    "***"
   ]
  },
  {
   "cell_type": "code",
   "execution_count": 9,
   "id": "54545928-fdb3-4138-8cc3-6c896c85f5e8",
   "metadata": {},
   "outputs": [],
   "source": [
    "username     = '8cc33bdb-3884-47bc-8085-b237fc46fe51'\n",
    "apiEndpoint  = 'https://api4.prismacloud.io'"
   ]
  },
  {
   "cell_type": "markdown",
   "id": "50694b20-034f-431d-a944-fdc5259f7e94",
   "metadata": {},
   "source": [
    "## Step 2\n",
    "\n",
    "- Enter your API password\n",
    "***"
   ]
  },
  {
   "cell_type": "code",
   "execution_count": 12,
   "id": "0e12b39c-9086-4509-ac12-913b99acbe94",
   "metadata": {},
   "outputs": [
    {
     "name": "stdout",
     "output_type": "stream",
     "text": [
      "Enter your Prisma Cloud secret key:  ········\n"
     ]
    },
    {
     "name": "stdout",
     "output_type": "stream",
     "text": [
      "Secret key entered!\n"
     ]
    }
   ],
   "source": [
    "import getpass\n",
    "\n",
    "password = getpass.getpass(prompt=\"Enter your Prisma Cloud secret key: \")\n",
    "print(\"Secret key entered!\")"
   ]
  },
  {
   "cell_type": "markdown",
   "id": "a090a1b8-be3d-43d8-bd15-c46ad86756b5",
   "metadata": {},
   "source": [
    "## Step 3\n",
    "\n",
    "- Enter CVE ID to search for\n",
    "***"
   ]
  },
  {
   "cell_type": "code",
   "execution_count": 13,
   "id": "33116943-e507-46e6-8dc1-4834b4a1ec0a",
   "metadata": {
    "editable": true,
    "slideshow": {
     "slide_type": ""
    },
    "tags": []
   },
   "outputs": [],
   "source": [
    "cveId = 'PRISMA-2022-0168'"
   ]
  },
  {
   "cell_type": "code",
   "execution_count": 30,
   "id": "52d48924-3a0f-4231-82f7-3c47acef0ac8",
   "metadata": {
    "editable": true,
    "slideshow": {
     "slide_type": ""
    },
    "tags": []
   },
   "outputs": [],
   "source": [
    "import json\n",
    "import requests\n",
    "\n",
    "platformURL  = apiEndpoint + \"/login\"\n",
    "\n",
    "payload = json.dumps({\n",
    "    'username': username,\n",
    "    'password': password\n",
    "})\n",
    "\n",
    "headers = {\n",
    "  'Content-Type': 'application/json; charset=UTF-8',\n",
    "  'Accept': 'application/json; charset=UTF-8'\n",
    "}\n",
    "\n",
    "login = requests.request(\"POST\", platformURL, headers=headers, data=payload)\n",
    "\n",
    "response_json   = login.json()\n",
    "token           = response_json[\"token\"]"
   ]
  },
  {
   "cell_type": "code",
   "execution_count": 31,
   "id": "07aa8f0a-9d72-4c89-9ce8-f3ebd9fc3a38",
   "metadata": {},
   "outputs": [
    {
     "name": "stdout",
     "output_type": "stream",
     "text": [
      "{\"value\":{\"severity\":[\"high\"],\"package\":{\"count\":2,\"repositorycount\":2,\"fixImpact\":{\"percentageVulns\":9.523809,\"across\":2},\"remediationAvailable\":[{\"action\":\"createPr\",\"status\":\"AVAILABLE\",\"actionResult\":null,\"message\":null},{\"action\":\"suppress\",\"status\":\"AVAILABLE\",\"actionResult\":null,\"message\":null}]},\"riskFactors\":[\"high severity\",\"package in use\"],\"cvssScore\":7.8,\"cveId\":\"PRISMA-2022-0168\",\"host\":{\"count\":4,\"repositorycount\":0,\"fixImpact\":{\"percentageVulns\":19.047619,\"across\":0},\"remediationAvailable\":[{\"action\":\"createTask\",\"status\":\"AVAILABLE\",\"actionResult\":null,\"message\":null}]},\"cbdrStage\":[\"code\",\"run\",\"deploy\"],\"iac\":{\"count\":12,\"repositorycount\":2,\"fixImpact\":{\"percentageVulns\":57.14286,\"across\":2},\"remediationAvailable\":[{\"action\":\"createTask\",\"status\":\"AVAILABLE\",\"actionResult\":null,\"message\":null},{\"action\":\"suppress\",\"status\":\"AVAILABLE\",\"actionResult\":null,\"message\":null}]},\"deployedImage\":{\"count\":2,\"repositorycount\":0,\"fixImpact\":{\"percentageVulns\":9.523809,\"across\":0},\"remediationAvailable\":[{\"action\":\"createTask\",\"status\":\"AVAILABLE\",\"actionResult\":null,\"message\":null}]},\"registryImage\":{\"count\":1,\"repositorycount\":0,\"fixImpact\":{\"percentageVulns\":4.7619047,\"across\":0},\"remediationAvailable\":[{\"action\":\"createTask\",\"status\":\"AVAILABLE\",\"actionResult\":null,\"message\":null}]}}}\n"
     ]
    }
   ],
   "source": [
    "url = apiEndpoint + '/uve/api/v1/dashboard/vulnerabilities/vuln-assets'\n",
    "\n",
    "#query = \"vulnerability where cve.id='\" + cveId + \"'\"\n",
    "\n",
    "payload = json.dumps({\n",
    "  #\"query\": \"string\",\n",
    "  \"cve_id\": cveId,\n",
    "  \"risk_factors\": [],\n",
    "  #\"sort_by\": \"string\",\n",
    "  #\"asset_type\": \"string\",\n",
    "  \"page_offset\": 0,\n",
    "  \"page_size\": 0,\n",
    "  \"filter_suppressed\": True\n",
    "})\n",
    "headers = {\n",
    "  'Content-Type': 'application/json',\n",
    "  'Accept': 'application/json',\n",
    "  'x-redlock-auth': token\n",
    "}\n",
    "\n",
    "response = requests.request(\"POST\", url, headers=headers, data=payload)\n",
    "\n",
    "print(response.text)"
   ]
  },
  {
   "cell_type": "code",
   "execution_count": 41,
   "id": "7162d829-efcf-47f2-a825-6d5fb146770d",
   "metadata": {},
   "outputs": [
    {
     "name": "stdout",
     "output_type": "stream",
     "text": [
      "d0c8f96486ff7032971b08fc187b2b15\n",
      "b97465585b93a0a916c8d0ae5fccb3ae\n",
      "729ea03236fc0bf2b4f94f9353e9ad3e\n",
      "5f2f38ccc6c245889886ffded26166ba\n"
     ]
    }
   ],
   "source": [
    "url = apiEndpoint + '/uve/api/v1/vulnerabilities/search/asset'\n",
    "\n",
    "query = \"vulnerability where cve.id='\" + cveId + \"'\"\n",
    "pcIds = []\n",
    "\n",
    "payload = json.dumps({\n",
    "  \"query\": query,\n",
    "  \"cveId\": cveId,\n",
    "  \"assetLifecycle\": \"run\",\n",
    "  \"assetType\": \"host\"\n",
    "})\n",
    "headers = {\n",
    "  'Content-Type': 'application/json',\n",
    "  'Accept': 'application/json',\n",
    "  'x-redlock-auth': token\n",
    "}\n",
    "\n",
    "response = requests.request(\"POST\", url, headers=headers, data=payload)\n",
    "data     = json.loads(response.text)\n",
    "\n",
    "for item in data[\"value\"]:\n",
    "    pcIds.append(item[\"id\"])\n",
    "    print(item[\"id\"])"
   ]
  },
  {
   "cell_type": "code",
   "execution_count": 42,
   "id": "15e23c9a-c657-4676-8397-8b3075223395",
   "metadata": {},
   "outputs": [
    {
     "name": "stdout",
     "output_type": "stream",
     "text": [
      "['d0c8f96486ff7032971b08fc187b2b15', 'b97465585b93a0a916c8d0ae5fccb3ae', '729ea03236fc0bf2b4f94f9353e9ad3e', '5f2f38ccc6c245889886ffded26166ba']\n"
     ]
    }
   ],
   "source": [
    "print(pcIds)"
   ]
  }
 ],
 "metadata": {
  "kernelspec": {
   "display_name": "Python 3 (ipykernel)",
   "language": "python",
   "name": "python3"
  },
  "language_info": {
   "codemirror_mode": {
    "name": "ipython",
    "version": 3
   },
   "file_extension": ".py",
   "mimetype": "text/x-python",
   "name": "python",
   "nbconvert_exporter": "python",
   "pygments_lexer": "ipython3",
   "version": "3.11.5"
  }
 },
 "nbformat": 4,
 "nbformat_minor": 5
}
