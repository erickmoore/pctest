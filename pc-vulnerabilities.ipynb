{
 "cells": [
  {
   "cell_type": "markdown",
   "id": "b08c1d66",
   "metadata": {},
   "source": [
    "## Introduction\n",
    "\n",
    "This Jupyter Notebook is designed to pull metadata from assets in Prisma Cloud with a selected vulnerability ID. We query Prisma Cloud API's to return data, and then parse that data to provide a simplified workflow. Tags are used as an attempt to attribute ownership of vulnerabilities. Path exclusions can be used to exclude results for corporate managed software (updated via IT).\n",
    "\n",
    "Setup\n",
    "1. Create a file named .env in the root of this project\n",
    "2. Add the required fields, an example .env file is provided in the root of this project as dot_env_example.txt  \n",
    "\n",
    "> PRISMA_CLOUD_URL  \n",
    "> PRISMA_CLOUD_IDENTITY  \n",
    "> PRISMA_CLOUD_SECRET  \n",
    "> TAG_SEARCH  \n",
    "> PATH_IGNORE  \n",
    "\n",
    "Features\n",
    "- Path Exclusions\n",
    "- Tag metadata searching for attribution\n",
    "\n",
    "API's Used:\n",
    "\n",
    "- [Get CVE Overview](https://pan.dev/prisma-cloud/api/cspm/cve-overview/)\n",
    "- [Get Vulnerabilities by RQL](https://pan.dev/prisma-cloud/api/cspm/vulnerabilities-search-api/)\n",
    "- [Get Vulnerable Assets by RQL](https://pan.dev/prisma-cloud/api/cspm/list-vulnerable-assets/)\n",
    "\n"
   ]
  },
  {
   "cell_type": "code",
   "execution_count": 2,
   "id": "54545928-fdb3-4138-8cc3-6c896c85f5e8",
   "metadata": {},
   "outputs": [],
   "source": [
    "cveId        = 'CVE-2024-21626'"
   ]
  },
  {
   "cell_type": "markdown",
   "id": "5b8a417a",
   "metadata": {
    "jp-MarkdownHeadingCollapsed": true
   },
   "source": [
    "### API Calls and Data Processing\n",
    "\n",
    "***"
   ]
  },
  {
   "cell_type": "markdown",
   "id": "1d6b0607",
   "metadata": {
    "jp-MarkdownHeadingCollapsed": true
   },
   "source": [
    "#### Get auth token and set up the environment\n",
    "\n",
    "***"
   ]
  },
  {
   "cell_type": "code",
   "execution_count": 3,
   "id": "52d48924-3a0f-4231-82f7-3c47acef0ac8",
   "metadata": {
    "editable": true,
    "slideshow": {
     "slide_type": ""
    },
    "tags": []
   },
   "outputs": [],
   "source": [
    "# Get auth token and set up the environment\n",
    "import json\n",
    "import requests\n",
    "import os\n",
    "from dotenv import load_dotenv\n",
    "from IPython.display import Markdown\n",
    "\n",
    "load_dotenv()\n",
    "\n",
    "username     = os.getenv(\"PRISMA_CLOUD_IDENTITY\")\n",
    "password     = os.getenv(\"PRISMA_CLOUD_SECRET\")\n",
    "apiEndpoint  = os.getenv(\"PRISMA_CLOUD_URL\")\n",
    "tagSearch    = os.getenv(\"TAG_SEARCH\")\n",
    "pathIgnore   = os.getenv(\"PATH_IGNORE\")\n",
    "\n",
    "platformURL  = apiEndpoint + \"/login\"\n",
    "\n",
    "payload = json.dumps({\n",
    "    'username': username,\n",
    "    'password': password\n",
    "})\n",
    "\n",
    "headers = {\n",
    "  'Content-Type': 'application/json; charset=UTF-8',\n",
    "  'Accept': 'application/json; charset=UTF-8'\n",
    "}\n",
    "\n",
    "login = requests.request(\"POST\", platformURL, headers=headers, data=payload)\n",
    "\n",
    "response_json   = login.json()\n",
    "token           = response_json[\"token\"]"
   ]
  },
  {
   "cell_type": "markdown",
   "id": "a3ea9190",
   "metadata": {
    "jp-MarkdownHeadingCollapsed": true
   },
   "source": [
    "#### Get CVE Overview\n",
    "\n",
    "***"
   ]
  },
  {
   "cell_type": "code",
   "execution_count": 4,
   "id": "c454f92e",
   "metadata": {},
   "outputs": [],
   "source": [
    "# Get CVE Overview\n",
    "url = apiEndpoint + '/uve/api/v1/dashboard/vulnerabilities/cve-overview?cve_id=' + cveId\n",
    "\n",
    "payload={}\n",
    "headers = {\n",
    "  'Content-Type': 'application/json',\n",
    "  'Accept': 'application/json',\n",
    "  'x-redlock-auth': token\n",
    "}\n",
    "\n",
    "response    = requests.request(\"GET\", url, headers=headers, data=payload)\n",
    "cveDetails  = json.loads(response.text)\n",
    "\n",
    "cveDescription    = cveDetails[\"description\"]\n",
    "cveCvssScore      = cveDetails[\"cvss\"]\n",
    "severity          = cveDetails[\"severity\"]\n",
    "packageName       = cveDetails[\"packageName\"]\n",
    "impactedVersions  = cveDetails[\"impactedVersion\"]\n",
    "fixVersions       = cveDetails[\"fixVersion\"]"
   ]
  },
  {
   "cell_type": "code",
   "execution_count": null,
   "id": "07aa8f0a-9d72-4c89-9ce8-f3ebd9fc3a38",
   "metadata": {},
   "outputs": [],
   "source": [
    "# # Create asset chart\n",
    "# url = apiEndpoint + '/uve/api/v1/dashboard/vulnerabilities/vuln-assets'\n",
    "\n",
    "# payload = json.dumps({\n",
    "#   \"cve_id\": cveId,\n",
    "#   \"risk_factors\": [],\n",
    "#   \"page_offset\": 0,\n",
    "#   \"page_size\": 0,\n",
    "#   \"filter_suppressed\": True\n",
    "# })\n",
    "# headers = {\n",
    "#   'Content-Type': 'application/json',\n",
    "#   'Accept': 'application/json',\n",
    "#   'x-redlock-auth': token\n",
    "# }\n",
    "\n",
    "# response    = requests.request(\"POST\", url, headers=headers, data=payload)\n",
    "# assetTypes  = json.loads(response.text)\n",
    "\n",
    "# print(assetTypes)\n",
    "\n",
    "# hostCount           = assetTypes[\"value\"][\"host\"][\"count\"]\n",
    "# iacCount            = assetTypes[\"value\"][\"iac\"][\"count\"]\n",
    "# deployedImageCount  = assetTypes[\"value\"][\"deployedImage\"][\"count\"]\n",
    "\n",
    "\n",
    "# import plotly.graph_objects as go\n",
    "\n",
    "# # Your data\n",
    "# data = {\n",
    "#     \"host\": {\"count\": hostCount},\n",
    "#     \"iac\": {\"count\": iacCount},\n",
    "#     \"deployedImage\": {\"count\": deployedImageCount}\n",
    "# }\n",
    "\n",
    "# # Create the x and y values for the chart\n",
    "# x_values = list(data.keys())\n",
    "# y_values = [item[\"count\"] for item in data.values()]\n",
    "\n",
    "# # Create the bar chart\n",
    "# fig = go.Figure(data=[go.Bar(x=x_values, y=y_values)])\n",
    "\n",
    "# # Customize the chart\n",
    "# fig.update_layout(title_text='Vulnerabilities count per category')\n"
   ]
  },
  {
   "cell_type": "markdown",
   "id": "4678e3f6",
   "metadata": {
    "jp-MarkdownHeadingCollapsed": true
   },
   "source": [
    "#### Get assets with CVE\n",
    "\n",
    "***"
   ]
  },
  {
   "cell_type": "code",
   "execution_count": 5,
   "id": "a19bf434",
   "metadata": {},
   "outputs": [],
   "source": [
    "# Get assets with CVE\n",
    "url = apiEndpoint + '/uve/api/v1/vulnerabilities/search/asset'\n",
    "\n",
    "query = \"vulnerability where cve.id='\" + cveId + \"'\"\n",
    "\n",
    "payload = json.dumps({\n",
    "  \"query\": query,\n",
    "  \"cveId\": cveId,\n",
    "  \"assetLifecycle\": \"run\",\n",
    "  \"assetType\": \"host\"\n",
    "})\n",
    "headers = {\n",
    "  'Content-Type': 'application/json',\n",
    "  'Accept': 'application/json',\n",
    "  'x-redlock-auth': token\n",
    "}\n",
    "\n",
    "response    = requests.request(\"POST\", url, headers=headers, data=payload)\n",
    "assetData   = json.loads(response.text)\n",
    "assetInfo   = assetData[\"value\"]\n",
    "assetCount  = len(assetInfo)"
   ]
  },
  {
   "cell_type": "markdown",
   "id": "18db9bb5",
   "metadata": {
    "jp-MarkdownHeadingCollapsed": true
   },
   "source": [
    "#### Get asset metadata\n",
    "***"
   ]
  },
  {
   "cell_type": "code",
   "execution_count": null,
   "id": "7162d829-efcf-47f2-a825-6d5fb146770d",
   "metadata": {},
   "outputs": [],
   "source": [
    "# Get asset metadata\n",
    "url = apiEndpoint + '/uai/v1/asset'\n",
    "\n",
    "assetMetaData = {}\n",
    "\n",
    "for asset in assetInfo:\n",
    "    payload = json.dumps({\n",
    "      \"assetId\": asset[\"id\"],\n",
    "      \"type\": \"asset_lite\"\n",
    "    })\n",
    "\n",
    "    headers = {\n",
    "      'Content-Type': 'application/json',\n",
    "      'Accept': 'application/json',\n",
    "      'x-redlock-auth': token\n",
    "    }\n",
    "\n",
    "    response      = requests.request(\"POST\", url, headers=headers, data=payload)\n",
    "    assetResponse = json.loads(response.text)\n",
    "\n",
    "    assetMetaData[asset[\"id\"]] = assetResponse"
   ]
  },
  {
   "cell_type": "markdown",
   "id": "93139586",
   "metadata": {
    "jp-MarkdownHeadingCollapsed": true
   },
   "source": [
    "#### Get vulnerability details by asset\n",
    "***"
   ]
  },
  {
   "cell_type": "code",
   "execution_count": null,
   "id": "9de5129c",
   "metadata": {},
   "outputs": [],
   "source": [
    "# Get vulnerability details by asset\n",
    "url = apiEndpoint + '/uai/v1/asset'\n",
    "\n",
    "def safe_get(dict_obj, *keys, default=None):\n",
    "    for key in keys:\n",
    "        if dict_obj is not None and key in dict_obj:\n",
    "            dict_obj = dict_obj.get(key)\n",
    "        else:\n",
    "            return default\n",
    "    return dict_obj\n",
    "\n",
    "for asset_id, item in assetMetaData.items():\n",
    "    asset = item[\"data\"][\"asset\"]\n",
    "    patchInfo = []\n",
    "\n",
    "    payload = json.dumps({\n",
    "      \"type\": \"asset_cwp_vulns\",\n",
    "      \"vulnerabilityInfoType\": \"cve\",\n",
    "      \"assetId\": asset[\"id\"],\n",
    "      \"vulnerabilityInfoTypeId\": cveId,\n",
    "      \"filters\": {\n",
    "        \"patchable\": \"true\",\n",
    "        \"sort\": \"severity\"\n",
    "      }\n",
    "    })\n",
    "\n",
    "    headers = {\n",
    "      'Content-Type': 'application/json',\n",
    "      'Accept': 'application/json',\n",
    "      'x-redlock-auth': token\n",
    "    }\n",
    "\n",
    "    response   = requests.request(\"POST\", url, headers=headers, data=payload)\n",
    "    cvResponse = json.loads(response.text)\n",
    "        \n",
    "    value = safe_get(cvResponse, \"data\", \"asset\", \"vulns\", \"value\")\n",
    "\n",
    "    if value is not None:\n",
    "      for item in value:\n",
    "          if \"packagePath\" in item and item[\"packagePath\"].startswith(pathIgnore): continue\n",
    "          patchInfo.append(item)\n",
    "          \n",
    "    assetMetaData[asset_id][\"data\"][\"asset\"][\"patchInfo\"] = patchInfo\n"
   ]
  },
  {
   "cell_type": "markdown",
   "id": "efccc15f",
   "metadata": {
    "jp-MarkdownHeadingCollapsed": true
   },
   "source": [
    "#### Format output\n",
    "***"
   ]
  },
  {
   "cell_type": "code",
   "execution_count": null,
   "id": "9ecbf3e9",
   "metadata": {},
   "outputs": [],
   "source": [
    "# Format output\n",
    "cveInformation = {\n",
    "    \"Description\": cveDescription,\n",
    "    \"CVSS Score\": cveCvssScore,\n",
    "    \"Severity\": severity,\n",
    "    \"Package Name\": packageName,\n",
    "    \"Impacted Versions\": impactedVersions,\n",
    "    \"Fixed Versions\": fixVersions\n",
    "}\n",
    "\n",
    "results = ''\n",
    "cveDetailOutput = ''\n",
    "\n",
    "for key, value in cveInformation.items():\n",
    "    cveDetailOutput += f'{key} : {value}\\n'\n",
    "    \n",
    "results += '\\n----------------------------------------------------------------------------------------------------------\\n'\n",
    "\n",
    "for item in assetMetaData:\n",
    "    asset = safe_get(assetMetaData, item, \"data\", \"asset\")\n",
    "    if asset and len(safe_get(asset, \"patchInfo\", default=[])) > 0:\n",
    "        results += f'Host: {assetMetaData[item][\"data\"][\"asset\"][\"name\"]}\\n'\n",
    "        results += f'Cloud: {assetMetaData[item][\"data\"][\"asset\"][\"cloudType\"]}\\n'\n",
    "        results += f'Account Name: {assetMetaData[item][\"data\"][\"asset\"][\"accountName\"]}\\n'\n",
    "        results += f'Account ID: {assetMetaData[item][\"data\"][\"asset\"][\"attributes\"][\"accountID\"]}\\n'\n",
    "        results += f'Region: {assetMetaData[item][\"data\"][\"asset\"][\"regionId\"]}\\n'\n",
    "        results += f'VPC Name: {assetMetaData[item][\"data\"][\"asset\"][\"vpcName\"]}\\n'\n",
    "        results += f'VM Image: {assetMetaData[item][\"data\"][\"asset\"][\"attributes\"][\"vmImage\"]}\\n'\n",
    "        results += f'Link to Asset: {assetMetaData[item][\"data\"][\"asset\"][\"url\"]}\\n'\n",
    "        patch_info = safe_get(asset, \"patchInfo\", default=[])\n",
    "        if patch_info:\n",
    "            results += f'Required Version: {safe_get(patch_info[0], \"fixedVersion\")}\\n'\n",
    "        for patch in patch_info:\n",
    "            results += 'Vulnerability Found:\\n'\n",
    "            results += f'     Path: {safe_get(patch, \"packagePath\")}\\n'\n",
    "            results += f'     Version: {safe_get(patch, \"version\")}\\n'\n",
    "        results += '\\n\\n'"
   ]
  },
  {
   "cell_type": "markdown",
   "id": "db1dff82",
   "metadata": {},
   "source": [
    "### Results\n",
    "***"
   ]
  },
  {
   "cell_type": "markdown",
   "id": "9d5f756f",
   "metadata": {},
   "source": [
    "#### CVE Details"
   ]
  },
  {
   "cell_type": "code",
   "execution_count": null,
   "id": "b75dc46d",
   "metadata": {},
   "outputs": [],
   "source": [
    "print(cveDetailOutput)"
   ]
  },
  {
   "cell_type": "markdown",
   "id": "c70b1127",
   "metadata": {},
   "source": [
    "#### Finding Details\n"
   ]
  },
  {
   "cell_type": "code",
   "execution_count": null,
   "id": "15e23c9a-c657-4676-8397-8b3075223395",
   "metadata": {},
   "outputs": [],
   "source": [
    "print(results)"
   ]
  }
 ],
 "metadata": {
  "kernelspec": {
   "display_name": "Python 3 (ipykernel)",
   "language": "python",
   "name": "python3"
  },
  "language_info": {
   "codemirror_mode": {
    "name": "ipython",
    "version": 3
   },
   "file_extension": ".py",
   "mimetype": "text/x-python",
   "name": "python",
   "nbconvert_exporter": "python",
   "pygments_lexer": "ipython3",
   "version": "3.9.6"
  }
 },
 "nbformat": 4,
 "nbformat_minor": 5
}
